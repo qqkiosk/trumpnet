{
 "cells": [
  {
   "cell_type": "code",
   "execution_count": 4,
   "id": "1b8e623b",
   "metadata": {},
   "outputs": [],
   "source": [
    "import cv2\n",
    "\n",
    "classifier = cv2.CascadeClassifier('haarcascade_frontalface_default.xml')\n",
    "\n",
    "\n",
    "# v1 20221028 Qin Xiong\n",
    "def extract_faces_from_video(path):\n",
    "    video = cv2.VideoCapture(path)\n",
    "    totalframe = video.get(cv2.CAP_PROP_FRAME_COUNT)\n",
    "    interval = totalframe / 1000\n",
    "    for i in range(0, 1000):\n",
    "        fid = i * interval\n",
    "        video.set(cv2.CAP_PROP_POS_FRAMES, fid)\n",
    "        ret, frame = video.read()\n",
    "        # look for face, only 1\n",
    "        faces = extract_faces_from_image(frame)\n",
    "        if len(faces) == 0:\n",
    "            continue\n",
    "        face = faces[0]\n",
    "        # save\n",
    "        (x, y, w, h) = face\n",
    "        # check for small face on Trump's desktop\n",
    "        if w < 50:\n",
    "            continue\n",
    "        cv2.imwrite(f\"{path}-{fid}.jpg\", frame[y:y + h, x:x + w])\n",
    "\n",
    "\n",
    "def extract_faces_from_image(image):\n",
    "    faces = classifier.detectMultiScale(image, 1.3, 4)\n",
    "    return faces\n"
   ]
  },
  {
   "cell_type": "code",
   "execution_count": 5,
   "id": "5fcb263f",
   "metadata": {},
   "outputs": [],
   "source": [
    "# process ONCE.\n",
    "#extract_faces_from_video(\"dataset/d_trump_video/videoplayback.mp4\")"
   ]
  },
  {
   "cell_type": "code",
   "execution_count": null,
   "id": "cb710669",
   "metadata": {},
   "outputs": [],
   "source": []
  }
 ],
 "metadata": {
  "kernelspec": {
   "display_name": "Python 3 (ipykernel)",
   "language": "python",
   "name": "python3"
  },
  "language_info": {
   "codemirror_mode": {
    "name": "ipython",
    "version": 3
   },
   "file_extension": ".py",
   "mimetype": "text/x-python",
   "name": "python",
   "nbconvert_exporter": "python",
   "pygments_lexer": "ipython3",
   "version": "3.8.9"
  }
 },
 "nbformat": 4,
 "nbformat_minor": 5
}
